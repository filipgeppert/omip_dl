{
 "cells": [
  {
   "cell_type": "code",
   "execution_count": 2,
   "metadata": {},
   "outputs": [],
   "source": [
    "from aws_utils import read_csv_as_dataframe\n",
    "import pandas as pd\n",
    "pd.set_option('display.max_colwidth', -1)"
   ]
  },
  {
   "cell_type": "code",
   "execution_count": 2,
   "metadata": {
    "scrolled": true
   },
   "outputs": [
    {
     "data": {
      "text/html": [
       "<div>\n",
       "<style scoped>\n",
       "    .dataframe tbody tr th:only-of-type {\n",
       "        vertical-align: middle;\n",
       "    }\n",
       "\n",
       "    .dataframe tbody tr th {\n",
       "        vertical-align: top;\n",
       "    }\n",
       "\n",
       "    .dataframe thead th {\n",
       "        text-align: right;\n",
       "    }\n",
       "</style>\n",
       "<table border=\"1\" class=\"dataframe\">\n",
       "  <thead>\n",
       "    <tr style=\"text-align: right;\">\n",
       "      <th></th>\n",
       "      <th>downloaded</th>\n",
       "      <th>url</th>\n",
       "      <th>short_description</th>\n",
       "      <th>district</th>\n",
       "      <th>area</th>\n",
       "      <th>rooms</th>\n",
       "      <th>price_per_m</th>\n",
       "      <th>price</th>\n",
       "      <th>owner</th>\n",
       "      <th>item_id</th>\n",
       "      <th>tracking_id</th>\n",
       "    </tr>\n",
       "  </thead>\n",
       "  <tbody>\n",
       "    <tr>\n",
       "      <th>0</th>\n",
       "      <td>2019-04-18</td>\n",
       "      <td>https://www.olx.pl/oferta/bezposrednio-5p-ursynow-1-min-do-metra-stoklosy-premium-lokalizacja-CID3-IDzzhKP.html#e613ee2254;promoted</td>\n",
       "      <td>Bezpośrednio 5p. Ursynów - 1 min do metra Stokłosy-PREMIUM LOKALIZACJA</td>\n",
       "      <td>Ursynów</td>\n",
       "      <td>116.0</td>\n",
       "      <td>4.0</td>\n",
       "      <td>13232.0</td>\n",
       "      <td>1535.0</td>\n",
       "      <td>Osoby prywatnej</td>\n",
       "      <td>525581491</td>\n",
       "      <td>NaN</td>\n",
       "    </tr>\n",
       "    <tr>\n",
       "      <th>1</th>\n",
       "      <td>2019-04-18</td>\n",
       "      <td>https://www.olx.pl/oferta/sprzedam-CID3-IDnqhVu.html#7f651eb8e2</td>\n",
       "      <td>Sprzedam</td>\n",
       "      <td>Mokotów</td>\n",
       "      <td>50.0</td>\n",
       "      <td>2.0</td>\n",
       "      <td>9900.0</td>\n",
       "      <td>495000.0</td>\n",
       "      <td>Osoby prywatnej</td>\n",
       "      <td>346121230</td>\n",
       "      <td>NaN</td>\n",
       "    </tr>\n",
       "    <tr>\n",
       "      <th>2</th>\n",
       "      <td>2019-04-18</td>\n",
       "      <td>https://www.olx.pl/oferta/mieszkanie-warszawa-ursus-58m2-CID3-IDz57jd.html#82f03ea1b6;promoted</td>\n",
       "      <td>Mieszkanie Warszawa Ursus 58m2</td>\n",
       "      <td>Ursus</td>\n",
       "      <td>58.0</td>\n",
       "      <td>3.0</td>\n",
       "      <td>6896.0</td>\n",
       "      <td>400000.0</td>\n",
       "      <td>Osoby prywatnej</td>\n",
       "      <td>518391499</td>\n",
       "      <td>NaN</td>\n",
       "    </tr>\n",
       "    <tr>\n",
       "      <th>3</th>\n",
       "      <td>2019-04-18</td>\n",
       "      <td>https://www.olx.pl/oferta/sprzedaz-mieszkania-CID3-IDz7B77.html#82f03ea1b6</td>\n",
       "      <td>Sprzedaż mieszkania</td>\n",
       "      <td>Bemowo</td>\n",
       "      <td>45.0</td>\n",
       "      <td>2.0</td>\n",
       "      <td>8515.0</td>\n",
       "      <td>390000.0</td>\n",
       "      <td>Osoby prywatnej</td>\n",
       "      <td>518982725</td>\n",
       "      <td>NaN</td>\n",
       "    </tr>\n",
       "    <tr>\n",
       "      <th>4</th>\n",
       "      <td>2019-04-18</td>\n",
       "      <td>https://www.olx.pl/oferta/scisle-centrum-15-pietro-3-pokoje-metro-bezposrednio-CID3-IDznqb3.html#d69fe08437;promoted</td>\n",
       "      <td>ŚCISŁE CENTRUM ! 15 piętro !! 3 pokoje !!! METRO !! BEZPOŚREDNIO !</td>\n",
       "      <td>Śródmieście</td>\n",
       "      <td>50.0</td>\n",
       "      <td>3.0</td>\n",
       "      <td>12980.0</td>\n",
       "      <td>649000.0</td>\n",
       "      <td>Osoby prywatnej</td>\n",
       "      <td>522753933</td>\n",
       "      <td>NaN</td>\n",
       "    </tr>\n",
       "  </tbody>\n",
       "</table>\n",
       "</div>"
      ],
      "text/plain": [
       "  downloaded  \\\n",
       "0 2019-04-18   \n",
       "1 2019-04-18   \n",
       "2 2019-04-18   \n",
       "3 2019-04-18   \n",
       "4 2019-04-18   \n",
       "\n",
       "                                                                                                                                   url  \\\n",
       "0  https://www.olx.pl/oferta/bezposrednio-5p-ursynow-1-min-do-metra-stoklosy-premium-lokalizacja-CID3-IDzzhKP.html#e613ee2254;promoted   \n",
       "1  https://www.olx.pl/oferta/sprzedam-CID3-IDnqhVu.html#7f651eb8e2                                                                       \n",
       "2  https://www.olx.pl/oferta/mieszkanie-warszawa-ursus-58m2-CID3-IDz57jd.html#82f03ea1b6;promoted                                        \n",
       "3  https://www.olx.pl/oferta/sprzedaz-mieszkania-CID3-IDz7B77.html#82f03ea1b6                                                            \n",
       "4  https://www.olx.pl/oferta/scisle-centrum-15-pietro-3-pokoje-metro-bezposrednio-CID3-IDznqb3.html#d69fe08437;promoted                  \n",
       "\n",
       "                                                        short_description  \\\n",
       "0  Bezpośrednio 5p. Ursynów - 1 min do metra Stokłosy-PREMIUM LOKALIZACJA   \n",
       "1  Sprzedam                                                                 \n",
       "2  Mieszkanie Warszawa Ursus 58m2                                           \n",
       "3  Sprzedaż mieszkania                                                      \n",
       "4  ŚCISŁE CENTRUM ! 15 piętro !! 3 pokoje !!! METRO !! BEZPOŚREDNIO !       \n",
       "\n",
       "      district   area  rooms  price_per_m     price            owner  \\\n",
       "0  Ursynów      116.0  4.0    13232.0      1535.0    Osoby prywatnej   \n",
       "1  Mokotów      50.0   2.0    9900.0       495000.0  Osoby prywatnej   \n",
       "2  Ursus        58.0   3.0    6896.0       400000.0  Osoby prywatnej   \n",
       "3  Bemowo       45.0   2.0    8515.0       390000.0  Osoby prywatnej   \n",
       "4  Śródmieście  50.0   3.0    12980.0      649000.0  Osoby prywatnej   \n",
       "\n",
       "     item_id  tracking_id  \n",
       "0  525581491 NaN           \n",
       "1  346121230 NaN           \n",
       "2  518391499 NaN           \n",
       "3  518982725 NaN           \n",
       "4  522753933 NaN           "
      ]
     },
     "execution_count": 2,
     "metadata": {},
     "output_type": "execute_result"
    }
   ],
   "source": [
    "website=\"olx\"\n",
    "location=\"warszawa\"\n",
    "#Metadata\n",
    "BUCKET= f's3://data-apartments/production/{website}/{location}/'\n",
    "df = read_csv_as_dataframe(bucket_path=BUCKET, filename=f'{website}_db.csv', timestamp_column_name='downloaded')\n",
    "df.head()"
   ]
  },
  {
   "cell_type": "markdown",
   "metadata": {},
   "source": [
    "# Otodom"
   ]
  },
  {
   "cell_type": "code",
   "execution_count": null,
   "metadata": {
    "scrolled": true
   },
   "outputs": [],
   "source": [
    "downloaded = pd.Timestamp(2019, 4, 22)\n",
    "df.query('district == \"Targówek\" and area > 35 and price < 250000').sort_values(by=['price', 'downloaded'],\n",
    "                                                                                          ascending=[True, False]).head()"
   ]
  },
  {
   "cell_type": "markdown",
   "metadata": {},
   "source": [
    "# Gumtree"
   ]
  },
  {
   "cell_type": "code",
   "execution_count": 3,
   "metadata": {},
   "outputs": [
    {
     "data": {
      "text/html": [
       "<div>\n",
       "<style scoped>\n",
       "    .dataframe tbody tr th:only-of-type {\n",
       "        vertical-align: middle;\n",
       "    }\n",
       "\n",
       "    .dataframe tbody tr th {\n",
       "        vertical-align: top;\n",
       "    }\n",
       "\n",
       "    .dataframe thead th {\n",
       "        text-align: right;\n",
       "    }\n",
       "</style>\n",
       "<table border=\"1\" class=\"dataframe\">\n",
       "  <thead>\n",
       "    <tr style=\"text-align: right;\">\n",
       "      <th></th>\n",
       "      <th>downloaded</th>\n",
       "      <th>url</th>\n",
       "      <th>short_description</th>\n",
       "      <th>district</th>\n",
       "      <th>area</th>\n",
       "      <th>rooms</th>\n",
       "      <th>price_per_m</th>\n",
       "      <th>price</th>\n",
       "      <th>owner</th>\n",
       "      <th>item_id</th>\n",
       "      <th>tracking_id</th>\n",
       "    </tr>\n",
       "  </thead>\n",
       "  <tbody>\n",
       "  </tbody>\n",
       "</table>\n",
       "</div>"
      ],
      "text/plain": [
       "Empty DataFrame\n",
       "Columns: [downloaded, url, short_description, district, area, rooms, price_per_m, price, owner, item_id, tracking_id]\n",
       "Index: []"
      ]
     },
     "execution_count": 3,
     "metadata": {},
     "output_type": "execute_result"
    }
   ],
   "source": [
    "downloaded = pd.Timestamp(2019, 4, 22)\n",
    "df.query('district == \"Bielany\" and area < 45 and owner == \"Właściciel\"').sort_values(by=['price', 'downloaded'],\n",
    "                                                                                          ascending=[True, False]).head()"
   ]
  },
  {
   "cell_type": "markdown",
   "metadata": {},
   "source": [
    "# Olx"
   ]
  },
  {
   "cell_type": "code",
   "execution_count": null,
   "metadata": {},
   "outputs": [],
   "source": [
    "downloaded = pd.Timestamp(2019, 4, 22)\n",
    "df.query('district == \"Bielany\" and area < 45 and owner == \"Osoby prywatnej\"').sort_values(by=['price', 'downloaded'],\n",
    "                                                                                          ascending=[True, False])"
   ]
  },
  {
   "cell_type": "code",
   "execution_count": null,
   "metadata": {},
   "outputs": [],
   "source": [
    "df.head()"
   ]
  },
  {
   "cell_type": "code",
   "execution_count": 3,
   "metadata": {},
   "outputs": [
    {
     "data": {
      "text/html": [
       "<div>\n",
       "<style scoped>\n",
       "    .dataframe tbody tr th:only-of-type {\n",
       "        vertical-align: middle;\n",
       "    }\n",
       "\n",
       "    .dataframe tbody tr th {\n",
       "        vertical-align: top;\n",
       "    }\n",
       "\n",
       "    .dataframe thead th {\n",
       "        text-align: right;\n",
       "    }\n",
       "</style>\n",
       "<table border=\"1\" class=\"dataframe\">\n",
       "  <thead>\n",
       "    <tr style=\"text-align: right;\">\n",
       "      <th></th>\n",
       "      <th>a</th>\n",
       "      <th>b</th>\n",
       "    </tr>\n",
       "  </thead>\n",
       "  <tbody>\n",
       "    <tr>\n",
       "      <th>0</th>\n",
       "      <td>1</td>\n",
       "      <td>4</td>\n",
       "    </tr>\n",
       "    <tr>\n",
       "      <th>1</th>\n",
       "      <td>2</td>\n",
       "      <td>5</td>\n",
       "    </tr>\n",
       "    <tr>\n",
       "      <th>2</th>\n",
       "      <td>3</td>\n",
       "      <td>6</td>\n",
       "    </tr>\n",
       "  </tbody>\n",
       "</table>\n",
       "</div>"
      ],
      "text/plain": [
       "   a  b\n",
       "0  1  4\n",
       "1  2  5\n",
       "2  3  6"
      ]
     },
     "execution_count": 3,
     "metadata": {},
     "output_type": "execute_result"
    }
   ],
   "source": [
    "df = pd.DataFrame({\"a\": [1,2,3], \"b\": [4,5,6]})\n",
    "df"
   ]
  },
  {
   "cell_type": "code",
   "execution_count": null,
   "metadata": {},
   "outputs": [],
   "source": [
    "def read_csv_as_dataframe(bucket_path: str, filename: str, timestamp_column_name: str = None) -> pd.DataFrame:\n",
    "    \"\"\"\n",
    "    Reads s3 csv file as DataFrame.\n",
    "    :param filename: name of the file that will be appended\n",
    "    :param bucket_path: absolute s3 path\n",
    "    :param timestamp_column_name: name of the timestamp column\n",
    "    :return: csv file read as pandas DataFrame\n",
    "    \"\"\"\n",
    "    # Use environmental permissions to authorize\n",
    "    fs = s3fs.S3FileSystem(anon=False)\n",
    "    # Read aggregated stored file\n",
    "    df = pd.read_csv(bucket_path + filename, parse_dates=[timestamp_column_name])\n",
    "    return df\n",
    "\n",
    "\n",
    "def save_dataframe_to_s3_as_csv(df: pd.DataFrame, filename: str, bucket_path: str) -> None:\n",
    "    \"\"\"\n",
    "    Saves DataFrame to s3 as csv file.\n",
    "    :param df: dataframe that will be saved\n",
    "    :param filename: name of the file that will be saved\n",
    "    :param bucket_path: absolute s3 path\n",
    "    :param date: date that will be added to the name of the file\n",
    "    :return: None\n",
    "    \"\"\"\n",
    "    # Encode DataFrame to bytes\n",
    "    bytes_to_write = df.to_csv(None, index=False).encode()\n",
    "    # Use environmental permissions to authorize\n",
    "    fs = s3fs.S3FileSystem(anon=False)\n",
    "    # Create write string\n",
    "    write_str = bucket_path + filename\n",
    "    with fs.open(write_str, 'wb') as f:\n",
    "        try:\n",
    "            f.write(bytes_to_write)\n",
    "            print(f\"{filename} was written to {write_str}\")\n",
    "            return None\n",
    "        except:\n",
    "            print(f\"There was a problem with writing {filename} to {write_str}.\")\n",
    "            return None"
   ]
  },
  {
   "cell_type": "code",
   "execution_count": null,
   "metadata": {},
   "outputs": [],
   "source": []
  }
 ],
 "metadata": {
  "kernelspec": {
   "display_name": "Python 3",
   "language": "python",
   "name": "python3"
  },
  "language_info": {
   "codemirror_mode": {
    "name": "ipython",
    "version": 3
   },
   "file_extension": ".py",
   "mimetype": "text/x-python",
   "name": "python",
   "nbconvert_exporter": "python",
   "pygments_lexer": "ipython3",
   "version": "3.7.2"
  },
  "toc": {
   "base_numbering": 1,
   "nav_menu": {},
   "number_sections": true,
   "sideBar": true,
   "skip_h1_title": false,
   "title_cell": "Table of Contents",
   "title_sidebar": "Contents",
   "toc_cell": false,
   "toc_position": {},
   "toc_section_display": true,
   "toc_window_display": false
  }
 },
 "nbformat": 4,
 "nbformat_minor": 2
}
