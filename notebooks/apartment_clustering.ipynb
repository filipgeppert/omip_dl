{
 "cells": [
  {
   "cell_type": "code",
   "execution_count": 1,
   "metadata": {},
   "outputs": [],
   "source": [
    "import os\n",
    "import sys\n",
    "import datetime\n",
    "import numpy as np"
   ]
  },
  {
   "cell_type": "code",
   "execution_count": 2,
   "metadata": {},
   "outputs": [],
   "source": [
    "import pandas as pd\n",
    "# import s3fs\n",
    "pd.set_option('display.max_colwidth', -1)\n",
    "sys.path.append(os.path.join(os.getcwd(), '..'))\n",
    "from aws_utils import read_csv_as_dataframe"
   ]
  },
  {
   "cell_type": "code",
   "execution_count": 3,
   "metadata": {},
   "outputs": [
    {
     "data": {
      "text/plain": [
       "'2019-11-02'"
      ]
     },
     "execution_count": 3,
     "metadata": {},
     "output_type": "execute_result"
    }
   ],
   "source": [
    "today = datetime.datetime.now()\n",
    "yesterday = today - datetime.timedelta(days=1)\n",
    "yesterday = yesterday.strftime(\"%Y-%m-%d\")\n",
    "yesterday"
   ]
  },
  {
   "cell_type": "markdown",
   "metadata": {},
   "source": [
    "# Read and clean input"
   ]
  },
  {
   "cell_type": "code",
   "execution_count": 4,
   "metadata": {},
   "outputs": [
    {
     "name": "stderr",
     "output_type": "stream",
     "text": [
      "/home/filip/.local/share/virtualenvs/otodom-YV8_LmfU/lib/python3.7/site-packages/IPython/core/interactiveshell.py:3326: DtypeWarning: Columns (4,5,6,7,9,10,20,21) have mixed types. Specify dtype option on import or set low_memory=False.\n",
      "  exec(code_obj, self.user_global_ns, self.user_ns)\n",
      "/home/filip/.local/share/virtualenvs/otodom-YV8_LmfU/lib/python3.7/site-packages/IPython/core/interactiveshell.py:3326: DtypeWarning: Columns (0,3,5,6,7,9,11,12,13,14,15,16,17,18,19,20,21) have mixed types. Specify dtype option on import or set low_memory=False.\n",
      "  exec(code_obj, self.user_global_ns, self.user_ns)\n",
      "/home/filip/.local/share/virtualenvs/otodom-YV8_LmfU/lib/python3.7/site-packages/IPython/core/interactiveshell.py:3326: DtypeWarning: Columns (4,6,7,10,11,12,13,14,15,16,17,18,19,20,21) have mixed types. Specify dtype option on import or set low_memory=False.\n",
      "  exec(code_obj, self.user_global_ns, self.user_ns)\n"
     ]
    }
   ],
   "source": [
    "def read_data_apartments(website, location):\n",
    "    BUCKET = f's3://data-apartments/production/{website}/{location}/'\n",
    "    df = read_csv_as_dataframe(bucket_path=BUCKET,\n",
    "                               filename=f'{website}_db.csv',\n",
    "                               timestamp_column_name='downloaded')\n",
    "    df['website'] = website\n",
    "    df['city'] = location\n",
    "    return df\n",
    "\n",
    "df = (read_data_apartments('olx', 'warszawa')\n",
    "          .append(read_data_apartments('otodom', 'warszawa'), sort=False)\n",
    "          .append(read_data_apartments('gumtree', 'warszawa'), sort=False))\n"
   ]
  },
  {
   "cell_type": "code",
   "execution_count": 95,
   "metadata": {},
   "outputs": [],
   "source": [
    "d = df.copy()\n",
    "# Remove mistakes from collection system\n",
    "d.query('rooms != \"rooms\"', inplace=True)\n",
    "# Remove instances where coordinates were not recorded\n",
    "d.drop('tracking_id', axis=1, inplace=True)\n",
    "d.dropna(subset=['latitude', 'longitude', 'owner', 'rooms', 'area'], inplace=True)\n",
    "d.query('downloaded > @yesterday', inplace=True)\n",
    "# Drop duplicates\n",
    "d.drop_duplicates(subset=['item_id', 'website'], inplace=True)\n",
    "# Convert to numeric columns\n",
    "num_cols = ['area', 'price_per_m', 'price', 'latitude', 'longitude']\n",
    "for col in num_cols:\n",
    "    d[col] = pd.to_numeric(d[col])"
   ]
  },
  {
   "cell_type": "markdown",
   "metadata": {},
   "source": [
    "## Map rooms to numerical value"
   ]
  },
  {
   "cell_type": "code",
   "execution_count": 96,
   "metadata": {},
   "outputs": [],
   "source": [
    "d.rooms = pd.to_numeric(d.rooms, errors='ignore', downcast='integer')\n",
    "rooms = {\n",
    "    \"Kawalerka lub garsoniera\": 1,\n",
    "    \"4 pokoje\": 4,\n",
    "    \"6 lub więcej pokoi\": 6,\n",
    "    \"5 pokoi\": 5,\n",
    "    \"2 pokoje\": 2,\n",
    "    \"3 pokoje\": 3,\n",
    "}\n",
    "d.rooms.replace(rooms, inplace=True)\n",
    "d.rooms = d.rooms.astype(int)"
   ]
  },
  {
   "cell_type": "markdown",
   "metadata": {},
   "source": [
    "## Organize owner column"
   ]
  },
  {
   "cell_type": "code",
   "execution_count": 97,
   "metadata": {},
   "outputs": [
    {
     "data": {
      "text/plain": [
       "array(['private', 'agency'], dtype=object)"
      ]
     },
     "execution_count": 97,
     "metadata": {},
     "output_type": "execute_result"
    }
   ],
   "source": [
    "owner = {\n",
    "    'Osoby prywatnej': 'private',\n",
    "    'Biuro / Deweloper': 'agency',\n",
    "    'Oferta biura nieruchomości': 'agency',\n",
    "    'Oferta prywatna': 'private',\n",
    "    'Agencja': 'agency',\n",
    "    'Właściciel': 'agency',\n",
    "}\n",
    "\n",
    "d.owner = d.owner.map(owner)\n",
    "d.owner.unique()"
   ]
  },
  {
   "cell_type": "markdown",
   "metadata": {},
   "source": [
    "## Calculate distance from center in degrees"
   ]
  },
  {
   "cell_type": "code",
   "execution_count": 98,
   "metadata": {},
   "outputs": [],
   "source": [
    "center_latitude = 52.229719\n",
    "center_longitude = 21.011381\n",
    "d['latitude_from_center'] = (center_latitude - d['latitude']).abs()\n",
    "d['longitude_from_center'] = (center_longitude - d['longitude']).abs()\n",
    "# distance from center\n",
    "d['distance_from_center'] = np.sqrt((d['latitude_from_center']**2+d['longitude_from_center']**2))*111"
   ]
  },
  {
   "cell_type": "code",
   "execution_count": 99,
   "metadata": {
    "scrolled": true
   },
   "outputs": [],
   "source": [
    "def create_distance_clusters(x):\n",
    "    if x <= 2:\n",
    "        return \"city_centre\"\n",
    "    elif 2 < x <= 5:\n",
    "        return \"close_city_centre\"\n",
    "    elif 5 < x <= 10:\n",
    "        return \"downtown\"\n",
    "    else:\n",
    "        return \"suburbs\"\n",
    "    \n",
    "d['location_name'] = d['distance_from_center'].apply(create_distance_clusters)"
   ]
  },
  {
   "cell_type": "code",
   "execution_count": 100,
   "metadata": {},
   "outputs": [],
   "source": [
    "price_distr = (d[['price_per_m', 'location_name']].groupby('location_name')\n",
    "                                                  .agg(['mean', 'std']))\n",
    "price_distr.columns = price_distr.columns.droplevel(0)\n",
    "price_distr.reset_index(inplace=True)\n",
    "# Merge with results\n",
    "d = d.merge(price_distr, on='location_name', how='inner')"
   ]
  },
  {
   "cell_type": "markdown",
   "metadata": {
    "heading_collapsed": true
   },
   "source": [
    "## Map districts"
   ]
  },
  {
   "cell_type": "code",
   "execution_count": 45,
   "metadata": {
    "hidden": true
   },
   "outputs": [
    {
     "data": {
      "text/plain": [
       "(1919, 51)"
      ]
     },
     "execution_count": 45,
     "metadata": {},
     "output_type": "execute_result"
    }
   ],
   "source": [
    "districts = ['Mokotów', 'Ursus', 'Bemowo', 'Śródmieście', 'Wilanów', 'Targówek', 'Ochota', 'Białołęka', 'Ursynów',\n",
    "             'Włochy', 'Wawer', 'Wola', 'Bielany', 'Wesoła', 'Żoliborz', 'Rembertów', 'Praga-Północ', 'Praga-Południe']\n",
    "\n",
    "districts_map = {\n",
    "    'Praga Południe': 'Praga-Południe',\n",
    "    'Praga Północ': 'Praga-Północ',\n",
    "    'Centrum': 'Śródmieście',\n",
    "}\n",
    "\n",
    "d.district.replace(districts_map, inplace=True)\n",
    "d.query('district in @districts', inplace=True)\n",
    "d.shape"
   ]
  },
  {
   "cell_type": "markdown",
   "metadata": {
    "hidden": true
   },
   "source": [
    "### Encode districts"
   ]
  },
  {
   "cell_type": "code",
   "execution_count": 46,
   "metadata": {
    "hidden": true
   },
   "outputs": [],
   "source": [
    "d = pd.concat([d, pd.get_dummies(d['district'], prefix='district')], axis=1)\n",
    "d = pd.concat([d, pd.get_dummies(d['owner'], prefix='owner')], axis=1)"
   ]
  },
  {
   "cell_type": "markdown",
   "metadata": {},
   "source": [
    "## Remove outliers/ quirks"
   ]
  },
  {
   "cell_type": "code",
   "execution_count": 101,
   "metadata": {},
   "outputs": [],
   "source": [
    "d.query('price < 30000000', inplace=True)\n",
    "d.query('price_per_m < 1000000', inplace=True)\n",
    "d.query('area < 1000', inplace=True)"
   ]
  },
  {
   "cell_type": "markdown",
   "metadata": {},
   "source": [
    "# Select offers below standard deviation"
   ]
  },
  {
   "cell_type": "code",
   "execution_count": 102,
   "metadata": {},
   "outputs": [],
   "source": [
    "d['threshold'] = d['mean'] - d['std']\n",
    "d_offers = d.query('price_per_m < threshold')"
   ]
  },
  {
   "cell_type": "code",
   "execution_count": 103,
   "metadata": {},
   "outputs": [
    {
     "data": {
      "text/html": [
       "<div>\n",
       "<style scoped>\n",
       "    .dataframe tbody tr th:only-of-type {\n",
       "        vertical-align: middle;\n",
       "    }\n",
       "\n",
       "    .dataframe tbody tr th {\n",
       "        vertical-align: top;\n",
       "    }\n",
       "\n",
       "    .dataframe thead th {\n",
       "        text-align: right;\n",
       "    }\n",
       "</style>\n",
       "<table border=\"1\" class=\"dataframe\">\n",
       "  <thead>\n",
       "    <tr style=\"text-align: right;\">\n",
       "      <th></th>\n",
       "      <th>downloaded</th>\n",
       "      <th>url</th>\n",
       "      <th>short_description</th>\n",
       "      <th>district</th>\n",
       "      <th>area</th>\n",
       "      <th>rooms</th>\n",
       "      <th>price_per_m</th>\n",
       "      <th>price</th>\n",
       "      <th>owner</th>\n",
       "      <th>item_id</th>\n",
       "      <th>...</th>\n",
       "      <th>longitude</th>\n",
       "      <th>website</th>\n",
       "      <th>city</th>\n",
       "      <th>latitude_from_center</th>\n",
       "      <th>longitude_from_center</th>\n",
       "      <th>distance_from_center</th>\n",
       "      <th>location_name</th>\n",
       "      <th>mean</th>\n",
       "      <th>std</th>\n",
       "      <th>threshold</th>\n",
       "    </tr>\n",
       "  </thead>\n",
       "  <tbody>\n",
       "    <tr>\n",
       "      <th>327</th>\n",
       "      <td>2019-11-02 00:00:00</td>\n",
       "      <td>https://www.gumtree.pl/a-mieszkania-i-domy-sprzedam-i-kupie/praga-poludnie/mieszkanie-warszawa-praga-poludnie-139-7m2-nr-hhn+ms+8711+20/1006211109070911381140509</td>\n",
       "      <td>Mieszkanie Warszawa Praga Południe 139.7m2 (nr: HHN-MS-8711-20)</td>\n",
       "      <td>Praga Południe</td>\n",
       "      <td>140.0</td>\n",
       "      <td>5</td>\n",
       "      <td>7135.714286</td>\n",
       "      <td>999000</td>\n",
       "      <td>agency</td>\n",
       "      <td>1006211109070911381140509</td>\n",
       "      <td>...</td>\n",
       "      <td>21.086269</td>\n",
       "      <td>gumtree</td>\n",
       "      <td>warszawa</td>\n",
       "      <td>0.000344</td>\n",
       "      <td>0.074888</td>\n",
       "      <td>8.312656</td>\n",
       "      <td>downtown</td>\n",
       "      <td>10904.185380</td>\n",
       "      <td>2770.134360</td>\n",
       "      <td>8134.051021</td>\n",
       "    </tr>\n",
       "    <tr>\n",
       "      <th>650</th>\n",
       "      <td>2019-11-03 00:00:00</td>\n",
       "      <td>https://www.gumtree.pl/a-mieszkania-i-domy-sprzedam-i-kupie/wlochy/wlochy-dom-632-m2-na-firme-2014/1006214704560911543980109</td>\n",
       "      <td>Włochy, dom 632 m2, na firmę, 2014</td>\n",
       "      <td>Włochy</td>\n",
       "      <td>632.0</td>\n",
       "      <td>6</td>\n",
       "      <td>6724.683544</td>\n",
       "      <td>4250000</td>\n",
       "      <td>agency</td>\n",
       "      <td>1006214704560911543980109</td>\n",
       "      <td>...</td>\n",
       "      <td>20.959474</td>\n",
       "      <td>gumtree</td>\n",
       "      <td>warszawa</td>\n",
       "      <td>0.046171</td>\n",
       "      <td>0.051907</td>\n",
       "      <td>7.711184</td>\n",
       "      <td>downtown</td>\n",
       "      <td>10904.185380</td>\n",
       "      <td>2770.134360</td>\n",
       "      <td>8134.051021</td>\n",
       "    </tr>\n",
       "    <tr>\n",
       "      <th>792</th>\n",
       "      <td>2019-11-02 00:00:00</td>\n",
       "      <td>https://www.gumtree.pl/a-mieszkania-i-domy-sprzedam-i-kupie/ochota/mieszkanie-warszawa-ochota-132m2-nr-hhn+ms+4366+6/1006211106720911381140509</td>\n",
       "      <td>Mieszkanie Warszawa Ochota 132m2 (nr: HHN-MS-4366-6)</td>\n",
       "      <td>Ochota</td>\n",
       "      <td>132.0</td>\n",
       "      <td>5</td>\n",
       "      <td>6590.909091</td>\n",
       "      <td>870000</td>\n",
       "      <td>agency</td>\n",
       "      <td>1006211106720911381140509</td>\n",
       "      <td>...</td>\n",
       "      <td>20.973807</td>\n",
       "      <td>gumtree</td>\n",
       "      <td>warszawa</td>\n",
       "      <td>0.022782</td>\n",
       "      <td>0.037574</td>\n",
       "      <td>4.877468</td>\n",
       "      <td>close_city_centre</td>\n",
       "      <td>11360.600110</td>\n",
       "      <td>2778.264764</td>\n",
       "      <td>8582.335347</td>\n",
       "    </tr>\n",
       "    <tr>\n",
       "      <th>816</th>\n",
       "      <td>2019-11-02 00:00:00</td>\n",
       "      <td>https://www.gumtree.pl/a-mieszkania-i-domy-sprzedam-i-kupie/praga-polnoc/mieszkanie-warszawa-praga-polnoc-68m2-nr-hhn+ms+8999+30/1006211106130911381140509</td>\n",
       "      <td>Mieszkanie Warszawa Praga Północ 68m2 (nr: HHN-MS-8999-30)</td>\n",
       "      <td>Praga Północ</td>\n",
       "      <td>68.0</td>\n",
       "      <td>3</td>\n",
       "      <td>8088.235294</td>\n",
       "      <td>550000</td>\n",
       "      <td>agency</td>\n",
       "      <td>1006211106130911381140509</td>\n",
       "      <td>...</td>\n",
       "      <td>21.030906</td>\n",
       "      <td>gumtree</td>\n",
       "      <td>warszawa</td>\n",
       "      <td>0.030183</td>\n",
       "      <td>0.019525</td>\n",
       "      <td>3.990198</td>\n",
       "      <td>close_city_centre</td>\n",
       "      <td>11360.600110</td>\n",
       "      <td>2778.264764</td>\n",
       "      <td>8582.335347</td>\n",
       "    </tr>\n",
       "    <tr>\n",
       "      <th>1171</th>\n",
       "      <td>2019-11-03 00:00:00</td>\n",
       "      <td>https://www.gumtree.pl/a-mieszkania-i-domy-sprzedam-i-kupie/bielany/sprzedam-bezposrednio-dom-w-zabudowie-blizniaczej-cena-do-negocjacji/1004814057140910479525809</td>\n",
       "      <td>SPRZEDAM BEZPOŚREDNIO DOM W ZABUDOWIE BLIŻNIACZEJ (cena do negocjacji)</td>\n",
       "      <td>Bielany</td>\n",
       "      <td>185.0</td>\n",
       "      <td>5</td>\n",
       "      <td>4864.864865</td>\n",
       "      <td>900000</td>\n",
       "      <td>agency</td>\n",
       "      <td>1004814057140910479525809</td>\n",
       "      <td>...</td>\n",
       "      <td>20.927347</td>\n",
       "      <td>gumtree</td>\n",
       "      <td>warszawa</td>\n",
       "      <td>0.066610</td>\n",
       "      <td>0.084034</td>\n",
       "      <td>11.902702</td>\n",
       "      <td>suburbs</td>\n",
       "      <td>7829.590279</td>\n",
       "      <td>2745.051023</td>\n",
       "      <td>5084.539256</td>\n",
       "    </tr>\n",
       "    <tr>\n",
       "      <th>1199</th>\n",
       "      <td>2019-11-03 00:00:00</td>\n",
       "      <td>https://www.gumtree.pl/a-mieszkania-i-domy-sprzedam-i-kupie/wawer/wolnostojcy-6+pok-267-6-m2-dzialka-500-m2/1006214826240911543980109</td>\n",
       "      <td>Wolnostojcy, 6-pok., 267, 6 m2, działka 500 m2</td>\n",
       "      <td>Wawer</td>\n",
       "      <td>437.0</td>\n",
       "      <td>6</td>\n",
       "      <td>2116.704805</td>\n",
       "      <td>925000</td>\n",
       "      <td>agency</td>\n",
       "      <td>1006214826240911543980109</td>\n",
       "      <td>...</td>\n",
       "      <td>21.189887</td>\n",
       "      <td>gumtree</td>\n",
       "      <td>warszawa</td>\n",
       "      <td>0.029861</td>\n",
       "      <td>0.178506</td>\n",
       "      <td>20.089489</td>\n",
       "      <td>suburbs</td>\n",
       "      <td>7829.590279</td>\n",
       "      <td>2745.051023</td>\n",
       "      <td>5084.539256</td>\n",
       "    </tr>\n",
       "    <tr>\n",
       "      <th>1501</th>\n",
       "      <td>2019-11-02 00:00:00</td>\n",
       "      <td>https://www.olx.pl/oferta/lodz-manufaktura-3-pak-kawalerek-roi-od-7-3-2x-parking-w-cenie-CID3-IDA1JaV.html#433628d34c;promoted</td>\n",
       "      <td>Łódź-Manufaktura! 3-pak Kawalerek! ROI od 7.3%! ! 2x parking w cenie!</td>\n",
       "      <td>Śródmieście</td>\n",
       "      <td>68.0</td>\n",
       "      <td>1</td>\n",
       "      <td>8970.000000</td>\n",
       "      <td>610000</td>\n",
       "      <td>private</td>\n",
       "      <td>532360082</td>\n",
       "      <td>...</td>\n",
       "      <td>21.017197</td>\n",
       "      <td>olx</td>\n",
       "      <td>warszawa</td>\n",
       "      <td>0.006305</td>\n",
       "      <td>0.005816</td>\n",
       "      <td>0.952203</td>\n",
       "      <td>city_centre</td>\n",
       "      <td>15510.501497</td>\n",
       "      <td>4419.847531</td>\n",
       "      <td>11090.653966</td>\n",
       "    </tr>\n",
       "    <tr>\n",
       "      <th>1727</th>\n",
       "      <td>2019-11-03 00:00:00</td>\n",
       "      <td>https://www.gumtree.pl/a-mieszkania-i-domy-sprzedam-i-kupie/srodmiescie/mieszkanie-na-srodmiesciu-ul-inflancka/1006214341380912450050009</td>\n",
       "      <td>Mieszkanie na śródmieściu ul. Inflancka</td>\n",
       "      <td>Śródmieście</td>\n",
       "      <td>65.0</td>\n",
       "      <td>3</td>\n",
       "      <td>11076.923077</td>\n",
       "      <td>720000</td>\n",
       "      <td>agency</td>\n",
       "      <td>1006214341380912450050009</td>\n",
       "      <td>...</td>\n",
       "      <td>21.001572</td>\n",
       "      <td>gumtree</td>\n",
       "      <td>warszawa</td>\n",
       "      <td>0.001828</td>\n",
       "      <td>0.009809</td>\n",
       "      <td>1.107545</td>\n",
       "      <td>city_centre</td>\n",
       "      <td>15510.501497</td>\n",
       "      <td>4419.847531</td>\n",
       "      <td>11090.653966</td>\n",
       "    </tr>\n",
       "  </tbody>\n",
       "</table>\n",
       "<p>8 rows × 30 columns</p>\n",
       "</div>"
      ],
      "text/plain": [
       "               downloaded  \\\n",
       "327   2019-11-02 00:00:00   \n",
       "650   2019-11-03 00:00:00   \n",
       "792   2019-11-02 00:00:00   \n",
       "816   2019-11-02 00:00:00   \n",
       "1171  2019-11-03 00:00:00   \n",
       "1199  2019-11-03 00:00:00   \n",
       "1501  2019-11-02 00:00:00   \n",
       "1727  2019-11-03 00:00:00   \n",
       "\n",
       "                                                                                                                                                                     url  \\\n",
       "327   https://www.gumtree.pl/a-mieszkania-i-domy-sprzedam-i-kupie/praga-poludnie/mieszkanie-warszawa-praga-poludnie-139-7m2-nr-hhn+ms+8711+20/1006211109070911381140509    \n",
       "650   https://www.gumtree.pl/a-mieszkania-i-domy-sprzedam-i-kupie/wlochy/wlochy-dom-632-m2-na-firme-2014/1006214704560911543980109                                         \n",
       "792   https://www.gumtree.pl/a-mieszkania-i-domy-sprzedam-i-kupie/ochota/mieszkanie-warszawa-ochota-132m2-nr-hhn+ms+4366+6/1006211106720911381140509                       \n",
       "816   https://www.gumtree.pl/a-mieszkania-i-domy-sprzedam-i-kupie/praga-polnoc/mieszkanie-warszawa-praga-polnoc-68m2-nr-hhn+ms+8999+30/1006211106130911381140509           \n",
       "1171  https://www.gumtree.pl/a-mieszkania-i-domy-sprzedam-i-kupie/bielany/sprzedam-bezposrednio-dom-w-zabudowie-blizniaczej-cena-do-negocjacji/1004814057140910479525809   \n",
       "1199  https://www.gumtree.pl/a-mieszkania-i-domy-sprzedam-i-kupie/wawer/wolnostojcy-6+pok-267-6-m2-dzialka-500-m2/1006214826240911543980109                                \n",
       "1501  https://www.olx.pl/oferta/lodz-manufaktura-3-pak-kawalerek-roi-od-7-3-2x-parking-w-cenie-CID3-IDA1JaV.html#433628d34c;promoted                                       \n",
       "1727  https://www.gumtree.pl/a-mieszkania-i-domy-sprzedam-i-kupie/srodmiescie/mieszkanie-na-srodmiesciu-ul-inflancka/1006214341380912450050009                             \n",
       "\n",
       "                                                           short_description  \\\n",
       "327   Mieszkanie Warszawa Praga Południe 139.7m2 (nr: HHN-MS-8711-20)          \n",
       "650   Włochy, dom 632 m2, na firmę, 2014                                       \n",
       "792   Mieszkanie Warszawa Ochota 132m2 (nr: HHN-MS-4366-6)                     \n",
       "816   Mieszkanie Warszawa Praga Północ 68m2 (nr: HHN-MS-8999-30)               \n",
       "1171  SPRZEDAM BEZPOŚREDNIO DOM W ZABUDOWIE BLIŻNIACZEJ (cena do negocjacji)   \n",
       "1199  Wolnostojcy, 6-pok., 267, 6 m2, działka 500 m2                           \n",
       "1501  Łódź-Manufaktura! 3-pak Kawalerek! ROI od 7.3%! ! 2x parking w cenie!    \n",
       "1727  Mieszkanie na śródmieściu ul. Inflancka                                  \n",
       "\n",
       "            district   area  rooms   price_per_m    price    owner  \\\n",
       "327   Praga Południe  140.0  5      7135.714286   999000   agency    \n",
       "650   Włochy          632.0  6      6724.683544   4250000  agency    \n",
       "792   Ochota          132.0  5      6590.909091   870000   agency    \n",
       "816   Praga Północ    68.0   3      8088.235294   550000   agency    \n",
       "1171  Bielany         185.0  5      4864.864865   900000   agency    \n",
       "1199  Wawer           437.0  6      2116.704805   925000   agency    \n",
       "1501  Śródmieście     68.0   1      8970.000000   610000   private   \n",
       "1727  Śródmieście     65.0   3      11076.923077  720000   agency    \n",
       "\n",
       "                        item_id  ...  longitude  website      city  \\\n",
       "327   1006211109070911381140509  ...  21.086269  gumtree  warszawa   \n",
       "650   1006214704560911543980109  ...  20.959474  gumtree  warszawa   \n",
       "792   1006211106720911381140509  ...  20.973807  gumtree  warszawa   \n",
       "816   1006211106130911381140509  ...  21.030906  gumtree  warszawa   \n",
       "1171  1004814057140910479525809  ...  20.927347  gumtree  warszawa   \n",
       "1199  1006214826240911543980109  ...  21.189887  gumtree  warszawa   \n",
       "1501  532360082                  ...  21.017197  olx      warszawa   \n",
       "1727  1006214341380912450050009  ...  21.001572  gumtree  warszawa   \n",
       "\n",
       "     latitude_from_center longitude_from_center distance_from_center  \\\n",
       "327   0.000344             0.074888              8.312656              \n",
       "650   0.046171             0.051907              7.711184              \n",
       "792   0.022782             0.037574              4.877468              \n",
       "816   0.030183             0.019525              3.990198              \n",
       "1171  0.066610             0.084034              11.902702             \n",
       "1199  0.029861             0.178506              20.089489             \n",
       "1501  0.006305             0.005816              0.952203              \n",
       "1727  0.001828             0.009809              1.107545              \n",
       "\n",
       "          location_name          mean          std     threshold  \n",
       "327   downtown           10904.185380  2770.134360  8134.051021   \n",
       "650   downtown           10904.185380  2770.134360  8134.051021   \n",
       "792   close_city_centre  11360.600110  2778.264764  8582.335347   \n",
       "816   close_city_centre  11360.600110  2778.264764  8582.335347   \n",
       "1171  suburbs            7829.590279   2745.051023  5084.539256   \n",
       "1199  suburbs            7829.590279   2745.051023  5084.539256   \n",
       "1501  city_centre        15510.501497  4419.847531  11090.653966  \n",
       "1727  city_centre        15510.501497  4419.847531  11090.653966  \n",
       "\n",
       "[8 rows x 30 columns]"
      ]
     },
     "execution_count": 103,
     "metadata": {},
     "output_type": "execute_result"
    }
   ],
   "source": [
    "d_selected_offer_ids = (d_offers[['item_id', 'location_name']]\n",
    "                             .groupby('location_name')\n",
    "                             .apply(lambda x: x.sample(2))\n",
    "                             .item_id\n",
    "                             .values)\n",
    "d_offers.query('item_id in @d_selected_offer_ids')"
   ]
  },
  {
   "cell_type": "code",
   "execution_count": 106,
   "metadata": {},
   "outputs": [
    {
     "data": {
      "text/plain": [
       "['556885983',\n",
       " '494621221',\n",
       " '1006214704680911543980109',\n",
       " '1006214914090911543980109',\n",
       " '1006214814190911543980109',\n",
       " '1006214770560911543980109',\n",
       " '1006213911960911381140509',\n",
       " '1006214593670911543980109']"
      ]
     },
     "execution_count": 106,
     "metadata": {},
     "output_type": "execute_result"
    }
   ],
   "source": [
    "d_selected_offers.tolist()"
   ]
  },
  {
   "cell_type": "markdown",
   "metadata": {},
   "source": [
    "# Start clustering"
   ]
  },
  {
   "cell_type": "markdown",
   "metadata": {},
   "source": [
    "## Determine number of clusters"
   ]
  },
  {
   "cell_type": "code",
   "execution_count": null,
   "metadata": {},
   "outputs": [],
   "source": [
    "# Select apropriate columns\n",
    "columns = [c for c in d.columns if 'owner_' in c]\n",
    "X = d.loc[:, columns + ['area', 'rooms', 'price', 'latitude_from_center', 'longitude_from_center']]"
   ]
  },
  {
   "cell_type": "code",
   "execution_count": null,
   "metadata": {},
   "outputs": [],
   "source": [
    "inertias = []\n",
    "clus_num = []\n",
    "for k in range(10,30):\n",
    "    scaler = StandardScaler()\n",
    "    scaler.fit(X)\n",
    "    x = scaler.transform(X)\n",
    "    kmeans = KMeans(n_clusters=k)\n",
    "    y_pred = kmeans.fit_predict(x)\n",
    "    clus_num.append(k)\n",
    "    inertias.append(kmeans.inertia_)\n",
    "    \n",
    "import plotly.graph_objects as go\n",
    "fig = go.Figure(data=go.Scatter(x=clus_num, y=inertias, mode='markers'))\n",
    "fig.show()\n",
    "# 19 clusters it is"
   ]
  },
  {
   "cell_type": "code",
   "execution_count": null,
   "metadata": {},
   "outputs": [],
   "source": [
    "from sklearn.cluster import KMeans\n",
    "from sklearn.preprocessing import StandardScaler\n",
    "scaler = StandardScaler()\n",
    "scaler.fit(X)\n",
    "x = scaler.transform(X)\n",
    "k = 29\n",
    "kmeans = KMeans(n_clusters=k)\n",
    "y_pred = kmeans.fit_predict(x)\n",
    "clusters = X[['price', 'area', 'rooms']].copy()\n",
    "clusters['cluster'] = y_pred"
   ]
  },
  {
   "cell_type": "code",
   "execution_count": null,
   "metadata": {},
   "outputs": [],
   "source": [
    "d = d.assign(cluster=y_pred)"
   ]
  },
  {
   "cell_type": "code",
   "execution_count": null,
   "metadata": {},
   "outputs": [],
   "source": [
    "# Assign district numerical value\n",
    "district_num = {l:k for k,l in enumerate(d.district.unique())}\n",
    "d['district_num'] = d.district.map(district_num)"
   ]
  },
  {
   "cell_type": "code",
   "execution_count": null,
   "metadata": {},
   "outputs": [],
   "source": [
    "d.head()"
   ]
  },
  {
   "cell_type": "code",
   "execution_count": null,
   "metadata": {},
   "outputs": [],
   "source": [
    "fig =px.scatter(d, x=\"price_per_m\", y=\"district\", color=\"cluster\",\n",
    "              hover_data=['rooms', 'url', 'item_id', 'website'])\n",
    "fig.show()"
   ]
  },
  {
   "cell_type": "code",
   "execution_count": null,
   "metadata": {},
   "outputs": [],
   "source": [
    "fig =px.scatter(d, x=\"latitude_from_center\", y=\"longitude_from_center\", color=\"cluster\",\n",
    "              hover_data=['rooms', 'url', 'item_id', 'website'])\n",
    "fig.show()"
   ]
  },
  {
   "cell_type": "code",
   "execution_count": null,
   "metadata": {},
   "outputs": [],
   "source": [
    "fig = px.scatter(d, x=\"rooms\", y=\"cluster\", color=\"owner\",\n",
    "                    hover_data=['rooms', 'url', 'item_id', 'website'])\n",
    "fig.show()"
   ]
  },
  {
   "cell_type": "code",
   "execution_count": null,
   "metadata": {
    "scrolled": false
   },
   "outputs": [],
   "source": [
    "pd.options.display.max_rows = 9999\n",
    "d.groupby(by=['cluster']).agg({'price_per_m': ['mean', 'std', 'count'],\n",
    "                                                    'price': ['mean', 'std'],\n",
    "                                                    'rooms': ['median'],\n",
    "                                                    'latitude': ['mean'],\n",
    "                                                    'longitude': ['mean']\n",
    "                                                    })"
   ]
  },
  {
   "cell_type": "code",
   "execution_count": null,
   "metadata": {},
   "outputs": [],
   "source": []
  }
 ],
 "metadata": {
  "kernelspec": {
   "display_name": "Python 3",
   "language": "python",
   "name": "python3"
  },
  "language_info": {
   "codemirror_mode": {
    "name": "ipython",
    "version": 3
   },
   "file_extension": ".py",
   "mimetype": "text/x-python",
   "name": "python",
   "nbconvert_exporter": "python",
   "pygments_lexer": "ipython3",
   "version": "3.7.3"
  },
  "toc": {
   "base_numbering": 1,
   "nav_menu": {},
   "number_sections": true,
   "sideBar": true,
   "skip_h1_title": false,
   "title_cell": "Table of Contents",
   "title_sidebar": "Contents",
   "toc_cell": false,
   "toc_position": {
    "height": "calc(100% - 180px)",
    "left": "10px",
    "top": "150px",
    "width": "293px"
   },
   "toc_section_display": true,
   "toc_window_display": true
  }
 },
 "nbformat": 4,
 "nbformat_minor": 2
}
