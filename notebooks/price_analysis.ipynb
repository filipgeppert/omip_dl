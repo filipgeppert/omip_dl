{
 "cells": [
  {
   "cell_type": "code",
   "execution_count": 1,
   "metadata": {},
   "outputs": [
    {
     "ename": "ModuleNotFoundError",
     "evalue": "No module named 'aws_utils'",
     "output_type": "error",
     "traceback": [
      "\u001b[0;31m---------------------------------------------------------------------------\u001b[0m",
      "\u001b[0;31mModuleNotFoundError\u001b[0m                       Traceback (most recent call last)",
      "\u001b[0;32m<ipython-input-1-a7ec3a45d683>\u001b[0m in \u001b[0;36m<module>\u001b[0;34m\u001b[0m\n\u001b[0;32m----> 1\u001b[0;31m \u001b[0;32mfrom\u001b[0m \u001b[0maws_utils\u001b[0m \u001b[0;32mimport\u001b[0m \u001b[0mread_csv_as_dataframe\u001b[0m\u001b[0;34m\u001b[0m\u001b[0;34m\u001b[0m\u001b[0m\n\u001b[0m\u001b[1;32m      2\u001b[0m \u001b[0;32mimport\u001b[0m \u001b[0mpandas\u001b[0m \u001b[0;32mas\u001b[0m \u001b[0mpd\u001b[0m\u001b[0;34m\u001b[0m\u001b[0;34m\u001b[0m\u001b[0m\n\u001b[1;32m      3\u001b[0m \u001b[0;32mimport\u001b[0m \u001b[0ms3fs\u001b[0m\u001b[0;34m\u001b[0m\u001b[0;34m\u001b[0m\u001b[0m\n\u001b[1;32m      4\u001b[0m \u001b[0mpd\u001b[0m\u001b[0;34m.\u001b[0m\u001b[0mset_option\u001b[0m\u001b[0;34m(\u001b[0m\u001b[0;34m'display.max_colwidth'\u001b[0m\u001b[0;34m,\u001b[0m \u001b[0;34m-\u001b[0m\u001b[0;36m1\u001b[0m\u001b[0;34m)\u001b[0m\u001b[0;34m\u001b[0m\u001b[0;34m\u001b[0m\u001b[0m\n",
      "\u001b[0;31mModuleNotFoundError\u001b[0m: No module named 'aws_utils'"
     ]
    }
   ],
   "source": [
    "from aws_utils import read_csv_as_dataframe\n",
    "import pandas as pd\n",
    "import s3fs\n",
    "pd.set_option('display.max_colwidth', -1)"
   ]
  },
  {
   "cell_type": "code",
   "execution_count": 2,
   "metadata": {},
   "outputs": [
    {
     "ename": "NameError",
     "evalue": "name 'read_csv_as_dataframe' is not defined",
     "output_type": "error",
     "traceback": [
      "\u001b[0;31m---------------------------------------------------------------------------\u001b[0m",
      "\u001b[0;31mNameError\u001b[0m                                 Traceback (most recent call last)",
      "\u001b[0;32m<ipython-input-2-5d1e4b7e2b31>\u001b[0m in \u001b[0;36m<module>\u001b[0;34m\u001b[0m\n\u001b[1;32m      3\u001b[0m \u001b[0;31m#Metadata\u001b[0m\u001b[0;34m\u001b[0m\u001b[0;34m\u001b[0m\u001b[0;34m\u001b[0m\u001b[0m\n\u001b[1;32m      4\u001b[0m \u001b[0mBUCKET\u001b[0m \u001b[0;34m=\u001b[0m \u001b[0;34mf's3://data-apartments/production/{website}/{location}/'\u001b[0m\u001b[0;34m\u001b[0m\u001b[0;34m\u001b[0m\u001b[0m\n\u001b[0;32m----> 5\u001b[0;31m \u001b[0mdf_olx\u001b[0m \u001b[0;34m=\u001b[0m \u001b[0mread_csv_as_dataframe\u001b[0m\u001b[0;34m(\u001b[0m\u001b[0mbucket_path\u001b[0m\u001b[0;34m=\u001b[0m\u001b[0mBUCKET\u001b[0m\u001b[0;34m,\u001b[0m \u001b[0mfilename\u001b[0m\u001b[0;34m=\u001b[0m\u001b[0;34mf'{website}_db.csv'\u001b[0m\u001b[0;34m,\u001b[0m \u001b[0mtimestamp_column_name\u001b[0m\u001b[0;34m=\u001b[0m\u001b[0;34m'downloaded'\u001b[0m\u001b[0;34m)\u001b[0m\u001b[0;34m\u001b[0m\u001b[0;34m\u001b[0m\u001b[0m\n\u001b[0m\u001b[1;32m      6\u001b[0m \u001b[0mdf_olx\u001b[0m\u001b[0;34m[\u001b[0m\u001b[0;34m'website'\u001b[0m\u001b[0;34m]\u001b[0m \u001b[0;34m=\u001b[0m \u001b[0;34m'olx'\u001b[0m\u001b[0;34m\u001b[0m\u001b[0;34m\u001b[0m\u001b[0m\n",
      "\u001b[0;31mNameError\u001b[0m: name 'read_csv_as_dataframe' is not defined"
     ]
    }
   ],
   "source": [
    "website=\"olx\"\n",
    "location=\"warszawa\"\n",
    "#Metadata\n",
    "BUCKET = f's3://data-apartments/production/{website}/{location}/'\n",
    "df_olx = read_csv_as_dataframe(bucket_path=BUCKET, filename=f'{website}_db.csv', timestamp_column_name='downloaded')\n",
    "df_olx['website'] = 'olx'"
   ]
  },
  {
   "cell_type": "code",
   "execution_count": null,
   "metadata": {},
   "outputs": [],
   "source": [
    "website=\"gumtree\"\n",
    "location=\"warszawa\"\n",
    "#Metadata\n",
    "BUCKET = f's3://data-apartments/production/{website}/{location}/'\n",
    "df_gumtree = read_csv_as_dataframe(bucket_path=BUCKET, filename=f'{website}_db.csv', timestamp_column_name='downloaded')\n",
    "df_gumtree['website'] = 'gumtree'"
   ]
  },
  {
   "cell_type": "code",
   "execution_count": null,
   "metadata": {},
   "outputs": [],
   "source": [
    "website=\"otodom\"\n",
    "location=\"warszawa\"\n",
    "#Metadata\n",
    "BUCKET = f's3://data-apartments/production/{website}/{location}/'\n",
    "df_otodom = read_csv_as_dataframe(bucket_path=BUCKET, filename=f'{website}_db.csv', timestamp_column_name='downloaded')\n",
    "df_otodom['website'] = 'otodom'"
   ]
  },
  {
   "cell_type": "code",
   "execution_count": null,
   "metadata": {},
   "outputs": [],
   "source": [
    "df = pd.concat([df_olx, df_otodom, df_gumtree], sort=False)"
   ]
  },
  {
   "cell_type": "markdown",
   "metadata": {},
   "source": [
    "# Data cleaning"
   ]
  },
  {
   "cell_type": "code",
   "execution_count": null,
   "metadata": {},
   "outputs": [],
   "source": [
    "df = df[df.price_per_m.notnull() & df.price.notnull()].copy()"
   ]
  },
  {
   "cell_type": "markdown",
   "metadata": {},
   "source": [
    "# Max price per district"
   ]
  },
  {
   "cell_type": "code",
   "execution_count": null,
   "metadata": {
    "scrolled": true
   },
   "outputs": [],
   "source": [
    "df_distr = df[['district', 'price', 'price_per_m']].groupby(['district']).agg({\n",
    "               'price':['count', 'mean'], 'price_per_m':['mean']    \n",
    "            }).reset_index()\n",
    "df_distr.columns = df_distr.columns.droplevel()\n",
    "df_distr.columns = ['district', 'count', 'mean_price', 'mean_price_per_m']\n",
    "df_distr.query('count > 1500', inplace=True)\n",
    "df_distr.sort_values(by=['mean_price_per_m'], ascending=False, inplace=True)"
   ]
  },
  {
   "cell_type": "code",
   "execution_count": null,
   "metadata": {},
   "outputs": [],
   "source": [
    "trace0 = go.Bar(\n",
    "    x=df_distr['district'].tolist()[:10],\n",
    "    y=df_distr['mean_price_per_m'].tolist()[:10],\n",
    "    marker=dict(\n",
    "        color='rgb(158,202,225)',\n",
    "        line=dict(\n",
    "            color='rgb(8,48,107)',\n",
    "            width=1.5,\n",
    "        )\n",
    "    ),\n",
    "    opacity=0.6\n",
    ")\n",
    "\n",
    "data = [trace0]\n",
    "layout = go.Layout(\n",
    "    title='Gdzie cena metra kwadratowego jest najwyższa?',\n",
    "    yaxis = go.layout.YAxis(\n",
    "        tickformat = 'zł'\n",
    "    )\n",
    ")\n",
    "\n",
    "fig = go.Figure(data=data, layout=layout)\n",
    "py.iplot(fig, filename='text-hover-bar')"
   ]
  },
  {
   "cell_type": "markdown",
   "metadata": {},
   "source": [
    "## Offers"
   ]
  },
  {
   "cell_type": "code",
   "execution_count": null,
   "metadata": {},
   "outputs": [],
   "source": [
    "df_distr = df[['district', 'price', 'price_per_m']].groupby(['district']).agg({\n",
    "               'price':['count', 'mean'], 'price_per_m':['mean']    \n",
    "            }).reset_index()\n",
    "df_distr.columns = df_distr.columns.droplevel()\n",
    "df_distr.columns = ['district', 'count', 'mean_price', 'mean_price_per_m']\n",
    "df_distr.query('count > 1500', inplace=True)\n",
    "df_distr.sort_values(by=['count'], ascending=False, inplace=True)"
   ]
  },
  {
   "cell_type": "code",
   "execution_count": null,
   "metadata": {},
   "outputs": [],
   "source": [
    "trace0 = go.Bar(\n",
    "    x=df_distr['district'].tolist()[:10],\n",
    "    y=df_distr['count'].tolist()[:10],\n",
    "    marker=dict(\n",
    "        color='rgb(158,202,225)',\n",
    "        line=dict(\n",
    "            color='rgb(8,48,107)',\n",
    "            width=1.5,\n",
    "        )\n",
    "    ),\n",
    "    opacity=0.6\n",
    ")\n",
    "\n",
    "data = [trace0]\n",
    "layout = go.Layout(\n",
    "    title='Gdzie wystawiane jest najwięcej ofert sprzedaży nieruchomości?',\n",
    "    yaxis = go.layout.YAxis(\n",
    "        title='Liczba ofert',\n",
    "        tickformat = 'zł'\n",
    "    )\n",
    ")\n",
    "\n",
    "fig = go.Figure(data=data, layout=layout)\n",
    "py.iplot(fig, filename='text-hover-bar-offers')"
   ]
  },
  {
   "cell_type": "markdown",
   "metadata": {},
   "source": [
    "## Area"
   ]
  },
  {
   "cell_type": "code",
   "execution_count": null,
   "metadata": {},
   "outputs": [],
   "source": [
    "df_distr = df[['district', 'area']].groupby(['district']).agg({\n",
    "               'area':['count', 'mean']    \n",
    "            }).reset_index()\n",
    "df_distr\n",
    "df_distr.columns = df_distr.columns.droplevel()\n",
    "df_distr.columns = ['district', 'count', 'mean_area']\n",
    "df_distr.query('count > 1500', inplace=True)\n",
    "df_distr.sort_values(by=['mean_area'], ascending=False, inplace=True)\n",
    "\n",
    "df_distr"
   ]
  },
  {
   "cell_type": "code",
   "execution_count": null,
   "metadata": {},
   "outputs": [],
   "source": [
    "trace0 = go.Bar(\n",
    "    x=df_distr['district'].tolist()[:10],\n",
    "    y=df_distr['mean_area'].tolist()[:10],\n",
    "    marker=dict(\n",
    "        color='rgb(158,202,225)',\n",
    "        line=dict(\n",
    "            color='rgb(8,48,107)',\n",
    "            width=1.5,\n",
    "        )\n",
    "    ),\n",
    "    opacity=0.6\n",
    ")\n",
    "\n",
    "data = [trace0]\n",
    "layout = go.Layout(\n",
    "    title='Gdzie kupisz największe mieszkania?',\n",
    "    yaxis = go.layout.YAxis(\n",
    "        title='Średnia powierzchnia mieszkania',\n",
    "        tickformat = 'm2'\n",
    "    )\n",
    ")\n",
    "\n",
    "fig = go.Figure(data=data, layout=layout)\n",
    "py.iplot(fig, filename='text-hover-bar-area')"
   ]
  },
  {
   "cell_type": "markdown",
   "metadata": {},
   "source": [
    "## Price map distribution"
   ]
  },
  {
   "cell_type": "code",
   "execution_count": null,
   "metadata": {},
   "outputs": [],
   "source": [
    "df_geo = df[df.longitude.notnull() & df.latitude.notnull()].copy()\n",
    "df_geo = df_geo.query('longitude < 21.165580 and longitude > 20.872942 and latitude < 52.359453 and latitude > 52.128592')\n",
    "df_geo = df_geo.query('price_per_m < 50000')\n",
    "df_geo.longitude = df_geo.longitude.astype(float)\n",
    "df_geo.latitude = df_geo.latitude.astype(float)"
   ]
  },
  {
   "cell_type": "code",
   "execution_count": null,
   "metadata": {},
   "outputs": [],
   "source": [
    "df_geo.head()"
   ]
  },
  {
   "cell_type": "code",
   "execution_count": null,
   "metadata": {},
   "outputs": [],
   "source": [
    "import matplotlib.pyplot as plt\n",
    "%matplotlib inline\n",
    "\n",
    "fig, ax = plt.subplots(figsize=(10, 10))\n",
    "ax.scatter(df_geo.longitude.tolist(), df_geo.latitude.tolist())\n",
    "plt.show()"
   ]
  },
  {
   "cell_type": "code",
   "execution_count": null,
   "metadata": {},
   "outputs": [],
   "source": [
    "from mpl_toolkits.mplot3d import Axes3D\n",
    "import numpy as np\n",
    "from sklearn.preprocessing import MinMaxScaler, StandardScaler\n",
    "\n",
    "prices = df_geo.price_per_m.tolist()\n",
    "scaler = MinMaxScaler()\n",
    "prices_scaled = scaler.fit_transform(np.array(prices).reshape(len(prices), 1))\n",
    "\n",
    "fig = plt.figure(figsize=(20, 20))\n",
    "ax1 = fig.add_subplot(111, projection='3d')\n",
    "\n",
    "xpos = df_geo.longitude.tolist()\n",
    "ypos = df_geo.latitude.tolist()\n",
    "num_elements = len(xpos)\n",
    "zpos = np.zeros(num_elements)\n",
    "dx = [0.001]*num_elements\n",
    "dy = [0.001]*num_elements\n",
    "dz = prices_scaled.ravel()\n",
    "\n",
    "ax1.bar3d(xpos, ypos, zpos, dx, dy, dz, color='#00ceaa')\n",
    "plt.show()"
   ]
  },
  {
   "cell_type": "code",
   "execution_count": null,
   "metadata": {},
   "outputs": [],
   "source": [
    "min_long, max_long = df_geo.longitude.min(), df_geo.longitude.max()\n",
    "min_lat, max_lat = df_geo.latitude.min(), df_geo.latitude.max()\n",
    "long = np.linspace(min_long, max_long, 10).tolist()\n",
    "lat = np.linspace(min_lat, max_lat, 10).tolist()"
   ]
  },
  {
   "cell_type": "code",
   "execution_count": null,
   "metadata": {
    "scrolled": true
   },
   "outputs": [],
   "source": [
    "longitudes = [20.88051723,\n",
    "                 20.911873304444438,\n",
    "                 20.943229378888876,\n",
    "                 20.974585453333315,\n",
    "                 21.005941527777754,\n",
    "                 21.037297602222196,\n",
    "                 21.068653676666635,\n",
    "                 21.100009751111074,\n",
    "                 21.131365825555513,\n",
    "                 21.16272189999995]\n",
    "latitudes = [52.12953870000001,\n",
    "             52.154670755555564,\n",
    "             52.179802811111124,\n",
    "             52.204934866666676,\n",
    "             52.23006692222223,\n",
    "             52.25519897777779,\n",
    "             52.28033103333334,\n",
    "             52.30546308888889,\n",
    "             52.33059514444445,\n",
    "             52.355727200000004]\n",
    "    \n",
    "def assign_group(row):\n",
    "    # Assign group based on latitude and longitude\n",
    "    # This is hard coded, take care of coordinate boundaries!\n",
    "    global longitudes\n",
    "    global latitudes\n",
    "    group_long, group_lat = None, None\n",
    "    for ind, longitude in enumerate(longitudes):\n",
    "        if row.longitude <= longitude:\n",
    "            group_long = str(longitudes[ind-1])\n",
    "            break\n",
    "        else:\n",
    "            continue\n",
    "            \n",
    "    for ind, latitude in enumerate(latitudes):\n",
    "        if row.latitude <= latitude:\n",
    "            group_lat = str(latitudes[ind-1])\n",
    "            break\n",
    "        else:\n",
    "            continue\n",
    "    return group_long + \"_\" + group_lat\n",
    "\n",
    "df_geo['geo_group'] = df_geo.apply(assign_group, axis=1)\n",
    "df_geo[['longitude_plot', 'latitude_plot']] = df_geo.geo_group.str.extract(\"(?P<longitude_plot>\\d+.\\d+)_(?P<latitude_plot>.+)\", expand=True)\n",
    "df = df_geo[['price_per_m', 'longitude_plot', 'latitude_plot']].groupby(['longitude_plot', 'latitude_plot']).mean().reset_index()\n",
    "\n",
    "def round_to_pln(x):\n",
    "    return str(int(x)) + ' zł'\n",
    "\n",
    "df['price_per_m_formatted'] = df.price_per_m.apply(round_to_pln)"
   ]
  },
  {
   "cell_type": "code",
   "execution_count": null,
   "metadata": {},
   "outputs": [],
   "source": [
    "df"
   ]
  },
  {
   "cell_type": "code",
   "execution_count": null,
   "metadata": {},
   "outputs": [],
   "source": [
    "import plotly.plotly as py\n",
    "import plotly.graph_objs as go\n",
    "\n",
    "mapbox_access_token = 'pk.eyJ1IjoiZGViMWwiLCJhIjoiY2p2cWdodm1yMDhvZTQ4cDl1eGJpcXNxdSJ9.bPBbIP7QMwD9UaVFwxffFw'\n",
    "\n",
    "\n",
    "data = [\n",
    "    go.Scattermapbox(\n",
    "        lat= df['latitude_plot'].tolist(),\n",
    "        lon= df['longitude_plot'].tolist(),\n",
    "        text=df['price_per_m_formatted'].tolist(),\n",
    "        mode='markers',\n",
    "        hoverinfo='text',\n",
    "        marker=dict(\n",
    "            size=16,\n",
    "            color = df['price_per_m'].tolist(), #set color equal to a variable\n",
    "            colorscale='Jet',\n",
    "            showscale=True\n",
    "        ),\n",
    "    )\n",
    "]\n",
    "\n",
    "layout = go.Layout(\n",
    "    width=1000,\n",
    "    height=1000,\n",
    "    hovermode='closest',\n",
    "    mapbox=go.layout.Mapbox(\n",
    "        accesstoken=mapbox_access_token,\n",
    "        bearing=0,\n",
    "        center=go.layout.mapbox.Center(\n",
    "            lat=52.235360,\n",
    "            lon= 21.009063\n",
    "        ), \n",
    "        pitch=0,\n",
    "        zoom=10\n",
    "    ),\n",
    ")\n",
    "\n",
    "fig = go.Figure(data=data, layout=layout)\n",
    "py.iplot(fig, filename='Multiple Mapbox')"
   ]
  },
  {
   "cell_type": "code",
   "execution_count": null,
   "metadata": {},
   "outputs": [],
   "source": []
  },
  {
   "cell_type": "code",
   "execution_count": null,
   "metadata": {},
   "outputs": [],
   "source": []
  },
  {
   "cell_type": "code",
   "execution_count": null,
   "metadata": {},
   "outputs": [],
   "source": []
  }
 ],
 "metadata": {
  "kernelspec": {
   "display_name": "Python 3",
   "language": "python",
   "name": "python3"
  },
  "language_info": {
   "codemirror_mode": {
    "name": "ipython",
    "version": 3
   },
   "file_extension": ".py",
   "mimetype": "text/x-python",
   "name": "python",
   "nbconvert_exporter": "python",
   "pygments_lexer": "ipython3",
   "version": "3.7.3"
  },
  "toc": {
   "base_numbering": 1,
   "nav_menu": {},
   "number_sections": true,
   "sideBar": true,
   "skip_h1_title": false,
   "title_cell": "Table of Contents",
   "title_sidebar": "Contents",
   "toc_cell": false,
   "toc_position": {},
   "toc_section_display": true,
   "toc_window_display": false
  }
 },
 "nbformat": 4,
 "nbformat_minor": 2
}
